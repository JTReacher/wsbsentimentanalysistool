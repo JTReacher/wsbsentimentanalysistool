{
    "cells": [
        {
            "cell_type": "code",
            "execution_count": 1,
            "source": [
                "import json\n",
                "import jsonlines\n",
                "from jsonhandlers import *\n",
                "import yahoo_fin\n",
                "import plotly\n",
                "import matplotlib\n",
                "import mysql.connector\n",
                "import pandas as pd\n",
                "import jq"
            ],
            "outputs": [],
            "metadata": {}
        },
        {
            "cell_type": "code",
            "execution_count": 52,
            "source": [
                "db = mysql.connector.connect(\n",
                "    host=\"localhost\",\n",
                "    user=\"mysql\",\n",
                "    password=\"mysql\",\n",
                "    database=\"test_db\"\n",
                ")\n"
            ],
            "outputs": [],
            "metadata": {}
        }
    ],
    "metadata": {
        "orig_nbformat": 4,
        "language_info": {
            "name": "python",
            "version": "3.6.14",
            "mimetype": "text/x-python",
            "codemirror_mode": {
                "name": "ipython",
                "version": 3
            },
            "pygments_lexer": "ipython3",
            "nbconvert_exporter": "python",
            "file_extension": ".py"
        },
        "kernelspec": {
            "name": "python3",
            "display_name": "Python 3.6.14 64-bit"
        },
        "interpreter": {
            "hash": "4cd7ab41f5fca4b9b44701077e38c5ffd31fe66a6cab21e0214b68d958d0e462"
        }
    },
    "nbformat": 4,
    "nbformat_minor": 2
}